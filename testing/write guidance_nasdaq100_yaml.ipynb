{
 "cells": [
  {
   "cell_type": "code",
   "execution_count": 2,
   "id": "b2362f0c",
   "metadata": {},
   "outputs": [
    {
     "name": "stdout",
     "output_type": "stream",
     "text": [
      "Overwriting /home/shihongyue/unconditional-time-series-diffusion/configs/guidance/guidance_nasdaq100.yaml\n"
     ]
    }
   ],
   "source": [
    "%%writefile /home/shihongyue/unconditional-time-series-diffusion/configs/guidance/guidance_nasdaq100.yaml\n",
    "ckpt: dummy/path.ckpt \n",
    "context_length: 96\n",
    "dataset: custom(/home/shihongyue/.gluonts/datasets/nasdaq100_prices)\n",
    "device: cuda:0\n",
    "diffusion_config: diffusion_small_config\n",
    "freq: B\n",
    "init_skip: true\n",
    "num_samples: 16\n",
    "prediction_length: 24\n",
    "sampler: ddpm\n",
    "sampler_params:\n",
    "  guidance: quantile\n",
    "  scale: 8\n",
    "setup: forecasting\n",
    "use_features: false\n",
    "use_lags: true"
   ]
  }
 ],
 "metadata": {
  "kernelspec": {
   "display_name": "base",
   "language": "python",
   "name": "python3"
  },
  "language_info": {
   "codemirror_mode": {
    "name": "ipython",
    "version": 3
   },
   "file_extension": ".py",
   "mimetype": "text/x-python",
   "name": "python",
   "nbconvert_exporter": "python",
   "pygments_lexer": "ipython3",
   "version": "3.13.2"
  }
 },
 "nbformat": 4,
 "nbformat_minor": 5
}
