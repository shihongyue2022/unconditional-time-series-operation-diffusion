{
 "cells": [
  {
   "cell_type": "code",
   "execution_count": 6,
   "id": "11e39949",
   "metadata": {},
   "outputs": [
    {
     "name": "stdout",
     "output_type": "stream",
     "text": [
      "Writing /home/shihongyue/unconditional-time-series-diffusion/configs/refinement/nasdaq100-transformer.yaml\n"
     ]
    }
   ],
   "source": [
    "%%writefile /home/shihongyue/unconditional-time-series-diffusion/configs/refinement/nasdaq100-transformer.yaml\n",
    "base_model: transformer\n",
    "ckpt: dummy/nasdaq100.ckpt\n",
    "context_length: 96\n",
    "dataset: custom(/home/shihongyue/.gluonts/datasets/nasdaq100_prices)\n",
    "device: cuda:0\n",
    "diffusion_config: diffusion_small_config\n",
    "init_skip: false\n",
    "iterations: 20\n",
    "num_samples: 16\n",
    "prediction_length: 24\n",
    "refiner_configs:\n",
    "- guidance: MSE\n",
    "  lr: 0.1\n",
    "  refiner_name: most_likely\n",
    "- guidance: quantile\n",
    "  lr: 0.1\n",
    "  refiner_name: most_likely\n",
    "- guidance: MSE\n",
    "  method: lmc\n",
    "  method_kwargs:\n",
    "    noise_scale: 0.1\n",
    "  refiner_name: mcmc\n",
    "  step_size: 0.1\n",
    "- guidance: quantile\n",
    "  method: lmc\n",
    "  method_kwargs:\n",
    "    noise_scale: 0.1\n",
    "  refiner_name: mcmc\n",
    "  step_size: 0.1\n",
    "use_features: false\n",
    "use_lags: true"
   ]
  }
 ],
 "metadata": {
  "kernelspec": {
   "display_name": "base",
   "language": "python",
   "name": "python3"
  },
  "language_info": {
   "codemirror_mode": {
    "name": "ipython",
    "version": 3
   },
   "file_extension": ".py",
   "mimetype": "text/x-python",
   "name": "python",
   "nbconvert_exporter": "python",
   "pygments_lexer": "ipython3",
   "version": "3.13.2"
  }
 },
 "nbformat": 4,
 "nbformat_minor": 5
}
