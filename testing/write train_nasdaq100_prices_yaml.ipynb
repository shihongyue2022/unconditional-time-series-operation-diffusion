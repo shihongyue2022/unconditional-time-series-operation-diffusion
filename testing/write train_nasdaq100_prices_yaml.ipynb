{
 "cells": [
  {
   "cell_type": "code",
   "execution_count": 6,
   "id": "d116a503",
   "metadata": {},
   "outputs": [
    {
     "name": "stdout",
     "output_type": "stream",
     "text": [
      "Overwriting /home/shihongyue/unconditional-time-series-diffusion/configs/train_tsdiff/train_nasdaq100_prices.yaml\n"
     ]
    }
   ],
   "source": [
    "%%writefile /home/shihongyue/unconditional-time-series-diffusion/configs/train_tsdiff/train_nasdaq100_prices.yaml\n",
    "model: unconditional\n",
    "diffusion_config: diffusion_small_config\n",
    "normalization: mean\n",
    "use_features: False\n",
    "use_lags: True\n",
    "dataset: custom(/home/shihongyue/.gluonts/datasets/nasdaq100_prices)  # 指向你整理好的数据\n",
    "freq: B\n",
    "context_length: 96\n",
    "prediction_length: 24\n",
    "lr: 1.e-3\n",
    "init_skip: True\n",
    "gradient_clip_val: 0.5\n",
    "max_epochs: 10\n",
    "num_batches_per_epoch: 128\n",
    "batch_size: 64\n",
    "num_samples: 16\n",
    "sampler: ddpm\n",
    "sampler_params:\n",
    "  guidance: quantile\n",
    "  scale: 8\n",
    "use_validation_set: True\n",
    "eval_every: 50\n",
    "device: cuda:0\n",
    "setup: forecasting"
   ]
  }
 ],
 "metadata": {
  "kernelspec": {
   "display_name": "base",
   "language": "python",
   "name": "python3"
  },
  "language_info": {
   "codemirror_mode": {
    "name": "ipython",
    "version": 3
   },
   "file_extension": ".py",
   "mimetype": "text/x-python",
   "name": "python",
   "nbconvert_exporter": "python",
   "pygments_lexer": "ipython3",
   "version": "3.13.2"
  }
 },
 "nbformat": 4,
 "nbformat_minor": 5
}
