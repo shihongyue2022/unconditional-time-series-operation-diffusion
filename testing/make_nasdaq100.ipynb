{
 "cells": [
  {
   "cell_type": "code",
   "execution_count": null,
   "id": "9dcf4212",
   "metadata": {},
   "outputs": [],
   "source": []
  },
  {
   "cell_type": "code",
   "execution_count": 45,
   "id": "1d5713c4",
   "metadata": {},
   "outputs": [],
   "source": [
    "from urllib.request import urlretrieve"
   ]
  },
  {
   "cell_type": "code",
   "execution_count": 46,
   "id": "f37580da",
   "metadata": {},
   "outputs": [
    {
     "data": {
      "text/plain": [
       "('SODWeightings_20240522_NDX.xlsx',\n",
       " <http.client.HTTPMessage at 0x15519079b9d0>)"
      ]
     },
     "execution_count": 46,
     "metadata": {},
     "output_type": "execute_result"
    }
   ],
   "source": [
    "#@title 'https://indexes.nasdaqomx.com/index/Weighting/NDX'\n",
    "#Excelファイルをダウンロード可能\n",
    "\n",
    "boxurl = 'https://tus.box.com/shared/static/xf065fiet5gkcnbljynmbn5wmy4kz2m4.xlsx'\n",
    "filename = 'SODWeightings_20240522_NDX.xlsx'\n",
    "\n",
    "urlretrieve(boxurl, filename)"
   ]
  },
  {
   "cell_type": "code",
   "execution_count": 47,
   "id": "3e17c8ad",
   "metadata": {},
   "outputs": [],
   "source": [
    "import pandas as pd"
   ]
  },
  {
   "cell_type": "code",
   "execution_count": 48,
   "id": "109e5a4b",
   "metadata": {},
   "outputs": [
    {
     "name": "stdout",
     "output_type": "stream",
     "text": [
      "Requirement already satisfied: pandas[excel] in /home/shihongyue/miniconda3/lib/python3.13/site-packages (2.3.1)\n",
      "Requirement already satisfied: numpy>=1.26.0 in /home/shihongyue/miniconda3/lib/python3.13/site-packages (from pandas[excel]) (2.1.3)\n",
      "Requirement already satisfied: python-dateutil>=2.8.2 in /home/shihongyue/miniconda3/lib/python3.13/site-packages (from pandas[excel]) (2.9.0.post0)\n",
      "Requirement already satisfied: pytz>=2020.1 in /home/shihongyue/miniconda3/lib/python3.13/site-packages (from pandas[excel]) (2025.2)\n",
      "Requirement already satisfied: tzdata>=2022.7 in /home/shihongyue/miniconda3/lib/python3.13/site-packages (from pandas[excel]) (2025.2)\n",
      "Requirement already satisfied: odfpy>=1.4.1 in /home/shihongyue/miniconda3/lib/python3.13/site-packages (from pandas[excel]) (1.4.1)\n",
      "Requirement already satisfied: openpyxl>=3.1.0 in /home/shihongyue/miniconda3/lib/python3.13/site-packages (from pandas[excel]) (3.1.5)\n",
      "Requirement already satisfied: python-calamine>=0.1.7 in /home/shihongyue/miniconda3/lib/python3.13/site-packages (from pandas[excel]) (0.5.3)\n",
      "Requirement already satisfied: pyxlsb>=1.0.10 in /home/shihongyue/miniconda3/lib/python3.13/site-packages (from pandas[excel]) (1.0.10)\n",
      "Requirement already satisfied: xlrd>=2.0.1 in /home/shihongyue/miniconda3/lib/python3.13/site-packages (from pandas[excel]) (2.0.2)\n",
      "Requirement already satisfied: xlsxwriter>=3.0.5 in /home/shihongyue/miniconda3/lib/python3.13/site-packages (from pandas[excel]) (3.2.8)\n",
      "Requirement already satisfied: defusedxml in /home/shihongyue/miniconda3/lib/python3.13/site-packages (from odfpy>=1.4.1->pandas[excel]) (0.7.1)\n",
      "Requirement already satisfied: et-xmlfile in /home/shihongyue/miniconda3/lib/python3.13/site-packages (from openpyxl>=3.1.0->pandas[excel]) (2.0.0)\n",
      "Requirement already satisfied: six>=1.5 in /home/shihongyue/miniconda3/lib/python3.13/site-packages (from python-dateutil>=2.8.2->pandas[excel]) (1.17.0)\n"
     ]
    }
   ],
   "source": [
    "!python -m pip install \"pandas[excel]\"\n"
   ]
  },
  {
   "cell_type": "code",
   "execution_count": 49,
   "id": "07eab612",
   "metadata": {},
   "outputs": [
    {
     "data": {
      "text/html": [
       "<div>\n",
       "<style scoped>\n",
       "    .dataframe tbody tr th:only-of-type {\n",
       "        vertical-align: middle;\n",
       "    }\n",
       "\n",
       "    .dataframe tbody tr th {\n",
       "        vertical-align: top;\n",
       "    }\n",
       "\n",
       "    .dataframe thead th {\n",
       "        text-align: right;\n",
       "    }\n",
       "</style>\n",
       "<table border=\"1\" class=\"dataframe\">\n",
       "  <thead>\n",
       "    <tr style=\"text-align: right;\">\n",
       "      <th></th>\n",
       "      <th>Company Name</th>\n",
       "      <th>Security Symbol</th>\n",
       "    </tr>\n",
       "  </thead>\n",
       "  <tbody>\n",
       "    <tr>\n",
       "      <th>0</th>\n",
       "      <td>APPLE INC.</td>\n",
       "      <td>AAPL</td>\n",
       "    </tr>\n",
       "    <tr>\n",
       "      <th>1</th>\n",
       "      <td>AIRBNB, INC CL A CMN</td>\n",
       "      <td>ABNB</td>\n",
       "    </tr>\n",
       "    <tr>\n",
       "      <th>2</th>\n",
       "      <td>ADOBE INC.</td>\n",
       "      <td>ADBE</td>\n",
       "    </tr>\n",
       "    <tr>\n",
       "      <th>3</th>\n",
       "      <td>ANALOG DEVICES CMN</td>\n",
       "      <td>ADI</td>\n",
       "    </tr>\n",
       "    <tr>\n",
       "      <th>4</th>\n",
       "      <td>AUTOMATIC DATA PROCS</td>\n",
       "      <td>ADP</td>\n",
       "    </tr>\n",
       "    <tr>\n",
       "      <th>...</th>\n",
       "      <td>...</td>\n",
       "      <td>...</td>\n",
       "    </tr>\n",
       "    <tr>\n",
       "      <th>96</th>\n",
       "      <td>WALGREENS BTS ALN CM</td>\n",
       "      <td>WBA</td>\n",
       "    </tr>\n",
       "    <tr>\n",
       "      <th>97</th>\n",
       "      <td>WRNR BRS DS CM WI</td>\n",
       "      <td>WBD</td>\n",
       "    </tr>\n",
       "    <tr>\n",
       "      <th>98</th>\n",
       "      <td>WORKDAY INC CL A</td>\n",
       "      <td>WDAY</td>\n",
       "    </tr>\n",
       "    <tr>\n",
       "      <th>99</th>\n",
       "      <td>XCEL ENERGY CMN</td>\n",
       "      <td>XEL</td>\n",
       "    </tr>\n",
       "    <tr>\n",
       "      <th>100</th>\n",
       "      <td>ZSCALER, INC. CMN</td>\n",
       "      <td>ZS</td>\n",
       "    </tr>\n",
       "  </tbody>\n",
       "</table>\n",
       "<p>101 rows × 2 columns</p>\n",
       "</div>"
      ],
      "text/plain": [
       "             Company Name Security Symbol\n",
       "0              APPLE INC.            AAPL\n",
       "1    AIRBNB, INC CL A CMN            ABNB\n",
       "2              ADOBE INC.            ADBE\n",
       "3      ANALOG DEVICES CMN             ADI\n",
       "4    AUTOMATIC DATA PROCS             ADP\n",
       "..                    ...             ...\n",
       "96   WALGREENS BTS ALN CM             WBA\n",
       "97      WRNR BRS DS CM WI             WBD\n",
       "98       WORKDAY INC CL A            WDAY\n",
       "99        XCEL ENERGY CMN             XEL\n",
       "100     ZSCALER, INC. CMN              ZS\n",
       "\n",
       "[101 rows x 2 columns]"
      ]
     },
     "execution_count": 49,
     "metadata": {},
     "output_type": "execute_result"
    }
   ],
   "source": [
    "df_nasdaqomx = pd.read_excel(filename).drop([0,1,2,3]).set_axis([\"Company Name\",\"Security Symbol\"], axis=1).reset_index(drop=True)\n",
    "df_nasdaqomx"
   ]
  },
  {
   "cell_type": "code",
   "execution_count": 50,
   "id": "c942e169",
   "metadata": {},
   "outputs": [
    {
     "name": "stdout",
     "output_type": "stream",
     "text": [
      "count: 101\n",
      "['AAPL', 'ABNB', 'ADBE', 'ADI', 'ADP', 'ADSK', 'AEP', 'AMAT', 'AMD', 'AMGN', 'AMZN', 'ANSS', 'ASML', 'AVGO', 'AZN', 'BIIB', 'BKNG', 'BKR', 'CCEP', 'CDNS', 'CDW', 'CEG', 'CHTR', 'CMCSA', 'COST', 'CPRT', 'CRWD', 'CSCO', 'CSGP', 'CSX', 'CTAS', 'CTSH', 'DASH', 'DDOG', 'DLTR', 'DXCM', 'EA', 'EXC', 'FANG', 'FAST', 'FTNT', 'GEHC', 'GFS', 'GILD', 'GOOG', 'GOOGL', 'HON', 'IDXX', 'ILMN', 'INTC', 'INTU', 'ISRG', 'KDP', 'KHC', 'KLAC', 'LIN', 'LRCX', 'LULU', 'MAR', 'MCHP', 'MDB', 'MDLZ', 'MELI', 'META', 'MNST', 'MRNA', 'MRVL', 'MSFT', 'MU', 'NFLX', 'NVDA', 'NXPI', 'ODFL', 'ON', 'ORLY', 'PANW', 'PAYX', 'PCAR', 'PDD', 'PEP', 'PYPL', 'QCOM', 'REGN', 'ROP', 'ROST', 'SBUX', 'SIRI', 'SNPS', 'TEAM', 'TMUS', 'TSLA', 'TTD', 'TTWO', 'TXN', 'VRSK', 'VRTX', 'WBA', 'WBD', 'WDAY', 'XEL', 'ZS']\n"
     ]
    }
   ],
   "source": [
    "# 取出“股票编号”列（不区分大小写寻找含 symbol 的列名更稳）\n",
    "sym_col = next(c for c in df_nasdaqomx.columns if \"symbol\" in str(c).lower())\n",
    "\n",
    "tickers = (\n",
    "    df_nasdaqomx[sym_col]\n",
    "      .dropna()                                  # 去掉空值\n",
    "      .astype(str).str.strip()                   # 去前后空格\n",
    "      .str.replace(r\"\\s+\", \"\", regex=True)       # 去中间空白\n",
    "      .str.replace(r\"[^A-Za-z0-9.\\-]\", \"\", regex=True)  # 清掉奇怪符号，保留.和-\n",
    "      .str.upper()\n",
    "      .pipe(pd.unique)                           # 按出现顺序去重\n",
    "      .tolist()\n",
    ")\n",
    "\n",
    "print(\"count:\", len(tickers))\n",
    "print(tickers)"
   ]
  },
  {
   "cell_type": "code",
   "execution_count": 51,
   "id": "e4f335d6",
   "metadata": {},
   "outputs": [
    {
     "name": "stdout",
     "output_type": "stream",
     "text": [
      "Requirement already satisfied: pandas in /home/shihongyue/miniconda3/lib/python3.13/site-packages (2.3.1)\n",
      "Requirement already satisfied: numpy>=1.26.0 in /home/shihongyue/miniconda3/lib/python3.13/site-packages (from pandas) (2.1.3)\n",
      "Requirement already satisfied: python-dateutil>=2.8.2 in /home/shihongyue/miniconda3/lib/python3.13/site-packages (from pandas) (2.9.0.post0)\n",
      "Requirement already satisfied: pytz>=2020.1 in /home/shihongyue/miniconda3/lib/python3.13/site-packages (from pandas) (2025.2)\n",
      "Requirement already satisfied: tzdata>=2022.7 in /home/shihongyue/miniconda3/lib/python3.13/site-packages (from pandas) (2025.2)\n",
      "Requirement already satisfied: six>=1.5 in /home/shihongyue/miniconda3/lib/python3.13/site-packages (from python-dateutil>=2.8.2->pandas) (1.17.0)\n"
     ]
    }
   ],
   "source": [
    "!pip install pandas"
   ]
  },
  {
   "cell_type": "code",
   "execution_count": 52,
   "id": "b0fd4cd6",
   "metadata": {},
   "outputs": [
    {
     "name": "stdout",
     "output_type": "stream",
     "text": [
      "Requirement already satisfied: yfinance in /home/shihongyue/miniconda3/lib/python3.13/site-packages (0.2.65)\n",
      "Requirement already satisfied: pandas>=1.3.0 in /home/shihongyue/miniconda3/lib/python3.13/site-packages (from yfinance) (2.3.1)\n",
      "Requirement already satisfied: numpy>=1.16.5 in /home/shihongyue/miniconda3/lib/python3.13/site-packages (from yfinance) (2.1.3)\n",
      "Requirement already satisfied: requests>=2.31 in /home/shihongyue/miniconda3/lib/python3.13/site-packages (from yfinance) (2.32.3)\n",
      "Requirement already satisfied: multitasking>=0.0.7 in /home/shihongyue/miniconda3/lib/python3.13/site-packages (from yfinance) (0.0.12)\n",
      "Requirement already satisfied: platformdirs>=2.0.0 in /home/shihongyue/miniconda3/lib/python3.13/site-packages (from yfinance) (4.3.7)\n",
      "Requirement already satisfied: pytz>=2022.5 in /home/shihongyue/miniconda3/lib/python3.13/site-packages (from yfinance) (2025.2)\n",
      "Requirement already satisfied: frozendict>=2.3.4 in /home/shihongyue/miniconda3/lib/python3.13/site-packages (from yfinance) (2.4.2)\n",
      "Requirement already satisfied: peewee>=3.16.2 in /home/shihongyue/miniconda3/lib/python3.13/site-packages (from yfinance) (3.18.2)\n",
      "Requirement already satisfied: beautifulsoup4>=4.11.1 in /home/shihongyue/miniconda3/lib/python3.13/site-packages (from yfinance) (4.12.3)\n",
      "Requirement already satisfied: curl_cffi>=0.7 in /home/shihongyue/miniconda3/lib/python3.13/site-packages (from yfinance) (0.13.0)\n",
      "Requirement already satisfied: protobuf>=3.19.0 in /home/shihongyue/miniconda3/lib/python3.13/site-packages (from yfinance) (6.32.1)\n",
      "Requirement already satisfied: websockets>=13.0 in /home/shihongyue/miniconda3/lib/python3.13/site-packages (from yfinance) (15.0.1)\n",
      "Requirement already satisfied: soupsieve>1.2 in /home/shihongyue/miniconda3/lib/python3.13/site-packages (from beautifulsoup4>=4.11.1->yfinance) (2.5)\n",
      "Requirement already satisfied: cffi>=1.12.0 in /home/shihongyue/miniconda3/lib/python3.13/site-packages (from curl_cffi>=0.7->yfinance) (1.17.1)\n",
      "Requirement already satisfied: certifi>=2024.2.2 in /home/shihongyue/miniconda3/lib/python3.13/site-packages (from curl_cffi>=0.7->yfinance) (2025.8.3)\n",
      "Requirement already satisfied: pycparser in /home/shihongyue/miniconda3/lib/python3.13/site-packages (from cffi>=1.12.0->curl_cffi>=0.7->yfinance) (2.21)\n",
      "Requirement already satisfied: python-dateutil>=2.8.2 in /home/shihongyue/miniconda3/lib/python3.13/site-packages (from pandas>=1.3.0->yfinance) (2.9.0.post0)\n",
      "Requirement already satisfied: tzdata>=2022.7 in /home/shihongyue/miniconda3/lib/python3.13/site-packages (from pandas>=1.3.0->yfinance) (2025.2)\n",
      "Requirement already satisfied: six>=1.5 in /home/shihongyue/miniconda3/lib/python3.13/site-packages (from python-dateutil>=2.8.2->pandas>=1.3.0->yfinance) (1.17.0)\n",
      "Requirement already satisfied: charset-normalizer<4,>=2 in /home/shihongyue/miniconda3/lib/python3.13/site-packages (from requests>=2.31->yfinance) (3.3.2)\n",
      "Requirement already satisfied: idna<4,>=2.5 in /home/shihongyue/miniconda3/lib/python3.13/site-packages (from requests>=2.31->yfinance) (3.7)\n",
      "Requirement already satisfied: urllib3<3,>=1.21.1 in /home/shihongyue/miniconda3/lib/python3.13/site-packages (from requests>=2.31->yfinance) (2.3.0)\n"
     ]
    }
   ],
   "source": [
    "!pip install yfinance"
   ]
  },
  {
   "cell_type": "code",
   "execution_count": 53,
   "id": "755674ab",
   "metadata": {},
   "outputs": [],
   "source": [
    "import pandas as pd\n",
    "import yfinance as yf"
   ]
  },
  {
   "cell_type": "code",
   "execution_count": 54,
   "id": "d929d790",
   "metadata": {},
   "outputs": [
    {
     "name": "stderr",
     "output_type": "stream",
     "text": [
      "[*********************100%***********************]  101 of 101 completed\n"
     ]
    },
    {
     "name": "stdout",
     "output_type": "stream",
     "text": [
      "kept=101, dropped=0 -> []\n"
     ]
    }
   ],
   "source": [
    "import pandas as pd, yfinance as yf\n",
    "\n",
    "data = yf.download(tickers, start=\"2019-01-01\", end=None, group_by='ticker', auto_adjust=True)\n",
    "\n",
    "def has_enough(t):\n",
    "    try:\n",
    "        close = data[t]['Close'].dropna()\n",
    "        return len(close) >= (96 + 24)   # 至少能产生一个样本\n",
    "    except Exception:\n",
    "        return False\n",
    "\n",
    "kept = [t for t in tickers if has_enough(t)]\n",
    "dropped = sorted(set(tickers) - set(kept))\n",
    "print(f\"kept={len(kept)}, dropped={len(dropped)} -> {dropped[:10]}\")\n"
   ]
  },
  {
   "cell_type": "code",
   "execution_count": 55,
   "id": "8b0581c7",
   "metadata": {},
   "outputs": [
    {
     "name": "stdout",
     "output_type": "stream",
     "text": [
      "start for 90% coverage: 2019-01-02\n"
     ]
    }
   ],
   "source": [
    "first_dates = {t: data[t]['Close'].dropna().index.min() for t in kept}\n",
    "s = pd.Series(first_dates)\n",
    "start_at_90pct = pd.to_datetime(s.quantile(0.90))   # 90% 覆盖\n",
    "print(\"start for 90% coverage:\", start_at_90pct.date())\n"
   ]
  },
  {
   "cell_type": "code",
   "execution_count": 56,
   "id": "b706ebcf",
   "metadata": {},
   "outputs": [
    {
     "name": "stdout",
     "output_type": "stream",
     "text": [
      "Requirement already satisfied: gluonts[torch] in /home/shihongyue/miniconda3/lib/python3.13/site-packages (0.16.2)\n",
      "Requirement already satisfied: numpy<2.2,>=1.16 in /home/shihongyue/miniconda3/lib/python3.13/site-packages (from gluonts[torch]) (2.1.3)\n",
      "Requirement already satisfied: pandas<3,>=1.0 in /home/shihongyue/miniconda3/lib/python3.13/site-packages (from gluonts[torch]) (2.3.1)\n",
      "Requirement already satisfied: pydantic<3,>=1.7 in /home/shihongyue/miniconda3/lib/python3.13/site-packages (from gluonts[torch]) (2.10.3)\n",
      "Requirement already satisfied: tqdm~=4.23 in /home/shihongyue/miniconda3/lib/python3.13/site-packages (from gluonts[torch]) (4.67.1)\n",
      "Requirement already satisfied: toolz~=0.10 in /home/shihongyue/miniconda3/lib/python3.13/site-packages (from gluonts[torch]) (0.12.1)\n",
      "Requirement already satisfied: typing-extensions~=4.0 in /home/shihongyue/miniconda3/lib/python3.13/site-packages (from gluonts[torch]) (4.12.2)\n",
      "Requirement already satisfied: torch<3,>=1.9 in /home/shihongyue/miniconda3/lib/python3.13/site-packages (from gluonts[torch]) (2.8.0)\n",
      "Requirement already satisfied: lightning<2.5,>=2.2.2 in /home/shihongyue/miniconda3/lib/python3.13/site-packages (from gluonts[torch]) (2.4.0)\n",
      "Requirement already satisfied: pytorch-lightning<2.5,>=2.2.2 in /home/shihongyue/miniconda3/lib/python3.13/site-packages (from gluonts[torch]) (2.4.0)\n",
      "Requirement already satisfied: scipy<1.16.0 in /home/shihongyue/miniconda3/lib/python3.13/site-packages (from gluonts[torch]) (1.15.3)\n",
      "Requirement already satisfied: PyYAML<8.0,>=5.4 in /home/shihongyue/miniconda3/lib/python3.13/site-packages (from lightning<2.5,>=2.2.2->gluonts[torch]) (6.0.2)\n",
      "Requirement already satisfied: fsspec<2026.0,>=2022.5.0 in /home/shihongyue/miniconda3/lib/python3.13/site-packages (from fsspec[http]<2026.0,>=2022.5.0->lightning<2.5,>=2.2.2->gluonts[torch]) (2025.7.0)\n",
      "Requirement already satisfied: lightning-utilities<2.0,>=0.10.0 in /home/shihongyue/miniconda3/lib/python3.13/site-packages (from lightning<2.5,>=2.2.2->gluonts[torch]) (0.15.2)\n",
      "Requirement already satisfied: packaging<25.0,>=20.0 in /home/shihongyue/miniconda3/lib/python3.13/site-packages (from lightning<2.5,>=2.2.2->gluonts[torch]) (24.2)\n",
      "Requirement already satisfied: torchmetrics<3.0,>=0.7.0 in /home/shihongyue/miniconda3/lib/python3.13/site-packages (from lightning<2.5,>=2.2.2->gluonts[torch]) (1.8.2)\n",
      "Requirement already satisfied: aiohttp!=4.0.0a0,!=4.0.0a1 in /home/shihongyue/miniconda3/lib/python3.13/site-packages (from fsspec[http]<2026.0,>=2022.5.0->lightning<2.5,>=2.2.2->gluonts[torch]) (3.12.15)\n",
      "Requirement already satisfied: setuptools in /home/shihongyue/miniconda3/lib/python3.13/site-packages (from lightning-utilities<2.0,>=0.10.0->lightning<2.5,>=2.2.2->gluonts[torch]) (72.1.0)\n",
      "Requirement already satisfied: python-dateutil>=2.8.2 in /home/shihongyue/miniconda3/lib/python3.13/site-packages (from pandas<3,>=1.0->gluonts[torch]) (2.9.0.post0)\n",
      "Requirement already satisfied: pytz>=2020.1 in /home/shihongyue/miniconda3/lib/python3.13/site-packages (from pandas<3,>=1.0->gluonts[torch]) (2025.2)\n",
      "Requirement already satisfied: tzdata>=2022.7 in /home/shihongyue/miniconda3/lib/python3.13/site-packages (from pandas<3,>=1.0->gluonts[torch]) (2025.2)\n",
      "Requirement already satisfied: annotated-types>=0.6.0 in /home/shihongyue/miniconda3/lib/python3.13/site-packages (from pydantic<3,>=1.7->gluonts[torch]) (0.6.0)\n",
      "Requirement already satisfied: pydantic-core==2.27.1 in /home/shihongyue/miniconda3/lib/python3.13/site-packages (from pydantic<3,>=1.7->gluonts[torch]) (2.27.1)\n",
      "Requirement already satisfied: filelock in /home/shihongyue/miniconda3/lib/python3.13/site-packages (from torch<3,>=1.9->gluonts[torch]) (3.19.1)\n",
      "Requirement already satisfied: sympy>=1.13.3 in /home/shihongyue/miniconda3/lib/python3.13/site-packages (from torch<3,>=1.9->gluonts[torch]) (1.14.0)\n",
      "Requirement already satisfied: networkx in /home/shihongyue/miniconda3/lib/python3.13/site-packages (from torch<3,>=1.9->gluonts[torch]) (3.5)\n",
      "Requirement already satisfied: jinja2 in /home/shihongyue/miniconda3/lib/python3.13/site-packages (from torch<3,>=1.9->gluonts[torch]) (3.1.6)\n",
      "Requirement already satisfied: nvidia-cuda-nvrtc-cu12==12.8.93 in /home/shihongyue/miniconda3/lib/python3.13/site-packages (from torch<3,>=1.9->gluonts[torch]) (12.8.93)\n",
      "Requirement already satisfied: nvidia-cuda-runtime-cu12==12.8.90 in /home/shihongyue/miniconda3/lib/python3.13/site-packages (from torch<3,>=1.9->gluonts[torch]) (12.8.90)\n",
      "Requirement already satisfied: nvidia-cuda-cupti-cu12==12.8.90 in /home/shihongyue/miniconda3/lib/python3.13/site-packages (from torch<3,>=1.9->gluonts[torch]) (12.8.90)\n",
      "Requirement already satisfied: nvidia-cudnn-cu12==9.10.2.21 in /home/shihongyue/miniconda3/lib/python3.13/site-packages (from torch<3,>=1.9->gluonts[torch]) (9.10.2.21)\n",
      "Requirement already satisfied: nvidia-cublas-cu12==12.8.4.1 in /home/shihongyue/miniconda3/lib/python3.13/site-packages (from torch<3,>=1.9->gluonts[torch]) (12.8.4.1)\n",
      "Requirement already satisfied: nvidia-cufft-cu12==11.3.3.83 in /home/shihongyue/miniconda3/lib/python3.13/site-packages (from torch<3,>=1.9->gluonts[torch]) (11.3.3.83)\n",
      "Requirement already satisfied: nvidia-curand-cu12==10.3.9.90 in /home/shihongyue/miniconda3/lib/python3.13/site-packages (from torch<3,>=1.9->gluonts[torch]) (10.3.9.90)\n",
      "Requirement already satisfied: nvidia-cusolver-cu12==11.7.3.90 in /home/shihongyue/miniconda3/lib/python3.13/site-packages (from torch<3,>=1.9->gluonts[torch]) (11.7.3.90)\n",
      "Requirement already satisfied: nvidia-cusparse-cu12==12.5.8.93 in /home/shihongyue/miniconda3/lib/python3.13/site-packages (from torch<3,>=1.9->gluonts[torch]) (12.5.8.93)\n",
      "Requirement already satisfied: nvidia-cusparselt-cu12==0.7.1 in /home/shihongyue/miniconda3/lib/python3.13/site-packages (from torch<3,>=1.9->gluonts[torch]) (0.7.1)\n",
      "Requirement already satisfied: nvidia-nccl-cu12==2.27.3 in /home/shihongyue/miniconda3/lib/python3.13/site-packages (from torch<3,>=1.9->gluonts[torch]) (2.27.3)\n",
      "Requirement already satisfied: nvidia-nvtx-cu12==12.8.90 in /home/shihongyue/miniconda3/lib/python3.13/site-packages (from torch<3,>=1.9->gluonts[torch]) (12.8.90)\n",
      "Requirement already satisfied: nvidia-nvjitlink-cu12==12.8.93 in /home/shihongyue/miniconda3/lib/python3.13/site-packages (from torch<3,>=1.9->gluonts[torch]) (12.8.93)\n",
      "Requirement already satisfied: nvidia-cufile-cu12==1.13.1.3 in /home/shihongyue/miniconda3/lib/python3.13/site-packages (from torch<3,>=1.9->gluonts[torch]) (1.13.1.3)\n",
      "Requirement already satisfied: triton==3.4.0 in /home/shihongyue/miniconda3/lib/python3.13/site-packages (from torch<3,>=1.9->gluonts[torch]) (3.4.0)\n",
      "Requirement already satisfied: aiohappyeyeballs>=2.5.0 in /home/shihongyue/miniconda3/lib/python3.13/site-packages (from aiohttp!=4.0.0a0,!=4.0.0a1->fsspec[http]<2026.0,>=2022.5.0->lightning<2.5,>=2.2.2->gluonts[torch]) (2.6.1)\n",
      "Requirement already satisfied: aiosignal>=1.4.0 in /home/shihongyue/miniconda3/lib/python3.13/site-packages (from aiohttp!=4.0.0a0,!=4.0.0a1->fsspec[http]<2026.0,>=2022.5.0->lightning<2.5,>=2.2.2->gluonts[torch]) (1.4.0)\n",
      "Requirement already satisfied: attrs>=17.3.0 in /home/shihongyue/miniconda3/lib/python3.13/site-packages (from aiohttp!=4.0.0a0,!=4.0.0a1->fsspec[http]<2026.0,>=2022.5.0->lightning<2.5,>=2.2.2->gluonts[torch]) (24.3.0)\n",
      "Requirement already satisfied: frozenlist>=1.1.1 in /home/shihongyue/miniconda3/lib/python3.13/site-packages (from aiohttp!=4.0.0a0,!=4.0.0a1->fsspec[http]<2026.0,>=2022.5.0->lightning<2.5,>=2.2.2->gluonts[torch]) (1.7.0)\n",
      "Requirement already satisfied: multidict<7.0,>=4.5 in /home/shihongyue/miniconda3/lib/python3.13/site-packages (from aiohttp!=4.0.0a0,!=4.0.0a1->fsspec[http]<2026.0,>=2022.5.0->lightning<2.5,>=2.2.2->gluonts[torch]) (6.6.4)\n",
      "Requirement already satisfied: propcache>=0.2.0 in /home/shihongyue/miniconda3/lib/python3.13/site-packages (from aiohttp!=4.0.0a0,!=4.0.0a1->fsspec[http]<2026.0,>=2022.5.0->lightning<2.5,>=2.2.2->gluonts[torch]) (0.3.2)\n",
      "Requirement already satisfied: yarl<2.0,>=1.17.0 in /home/shihongyue/miniconda3/lib/python3.13/site-packages (from aiohttp!=4.0.0a0,!=4.0.0a1->fsspec[http]<2026.0,>=2022.5.0->lightning<2.5,>=2.2.2->gluonts[torch]) (1.20.1)\n",
      "Requirement already satisfied: idna>=2.0 in /home/shihongyue/miniconda3/lib/python3.13/site-packages (from yarl<2.0,>=1.17.0->aiohttp!=4.0.0a0,!=4.0.0a1->fsspec[http]<2026.0,>=2022.5.0->lightning<2.5,>=2.2.2->gluonts[torch]) (3.7)\n",
      "Requirement already satisfied: six>=1.5 in /home/shihongyue/miniconda3/lib/python3.13/site-packages (from python-dateutil>=2.8.2->pandas<3,>=1.0->gluonts[torch]) (1.17.0)\n",
      "Requirement already satisfied: mpmath<1.4,>=1.1.0 in /home/shihongyue/miniconda3/lib/python3.13/site-packages (from sympy>=1.13.3->torch<3,>=1.9->gluonts[torch]) (1.3.0)\n",
      "Requirement already satisfied: MarkupSafe>=2.0 in /home/shihongyue/miniconda3/lib/python3.13/site-packages (from jinja2->torch<3,>=1.9->gluonts[torch]) (3.0.2)\n"
     ]
    }
   ],
   "source": [
    "!pip install \"gluonts[torch]\""
   ]
  },
  {
   "cell_type": "code",
   "execution_count": 57,
   "id": "82dacf93",
   "metadata": {},
   "outputs": [],
   "source": [
    "from gluonts.dataset.repository.datasets import get_download_path\n",
    "from pathlib import Path"
   ]
  },
  {
   "cell_type": "code",
   "execution_count": 58,
   "id": "a05d7dfc",
   "metadata": {},
   "outputs": [
    {
     "data": {
      "text/plain": [
       "PosixPath('/home/shihongyue/.gluonts')"
      ]
     },
     "execution_count": 58,
     "metadata": {},
     "output_type": "execute_result"
    }
   ],
   "source": [
    "get_download_path()"
   ]
  },
  {
   "cell_type": "code",
   "execution_count": 59,
   "id": "212fd068",
   "metadata": {},
   "outputs": [],
   "source": [
    "root = Path(get_download_path()) / \"datasets\" / \"nasdaq100_prices\"\n",
    "(root).mkdir(parents=True, exist_ok=True)\n",
    "(root / \"train\").mkdir(exist_ok=True)\n",
    "(root / \"test\").mkdir(exist_ok=True)"
   ]
  },
  {
   "cell_type": "code",
   "execution_count": 60,
   "id": "2146c245",
   "metadata": {},
   "outputs": [],
   "source": [
    "import json"
   ]
  },
  {
   "cell_type": "code",
   "execution_count": 61,
   "id": "316e4f79",
   "metadata": {},
   "outputs": [
    {
     "name": "stdout",
     "output_type": "stream",
     "text": [
      "数据已保存到: /home/shihongyue/.gluonts/datasets/nasdaq100_prices  | 写入条数: 101  (train: /home/shihongyue/.gluonts/datasets/nasdaq100_prices/train/train.json, test: /home/shihongyue/.gluonts/datasets/nasdaq100_prices/test/test.json)\n"
     ]
    }
   ],
   "source": [
    "import json\n",
    "import pandas as pd\n",
    "\n",
    "# ------- 兼容取某只股票的收盘价（支持两种 MultiIndex 顺序 & 'Adj Close'）-------\n",
    "def get_close_series(df: pd.DataFrame, ticker: str) -> pd.Series:\n",
    "    if isinstance(df.columns, pd.MultiIndex):\n",
    "        lv0 = df.columns.get_level_values(0)\n",
    "        lv1 = df.columns.get_level_values(1)\n",
    "\n",
    "        # 形如 ('Close','AAPL')\n",
    "        if 'Close' in lv0:\n",
    "            s = df['Close'].get(ticker)\n",
    "        elif 'Adj Close' in lv0:\n",
    "            s = df['Adj Close'].get(ticker)\n",
    "        # 形如 ('AAPL','Close')\n",
    "        elif 'Close' in lv1:\n",
    "            s = df.xs('Close', axis=1, level=1).get(ticker)\n",
    "        elif 'Adj Close' in lv1:\n",
    "            s = df.xs('Adj Close', axis=1, level=1).get(ticker)\n",
    "        else:\n",
    "            s = None\n",
    "    else:\n",
    "        s = df.get('Close', df.get('Adj Close'))\n",
    "\n",
    "    if s is None:\n",
    "        return pd.Series(dtype='float32')\n",
    "\n",
    "    return s.dropna().astype('float32')\n",
    "\n",
    "# ------- 生成 train.json / test.json -------\n",
    "SPLIT = 0.8                 # 训练/测试比例\n",
    "CONTEXT = 96                # 和训练配置一致\n",
    "PRED = 24                   # 和训练配置一致\n",
    "MIN_LEN = CONTEXT + PRED    # 每条序列至少长度\n",
    "\n",
    "(train_path := (root / \"train\" / \"train.json\").resolve()).parent.mkdir(parents=True, exist_ok=True)\n",
    "(test_path  := (root / \"test\"  / \"test.json\").resolve()).parent.mkdir(parents=True, exist_ok=True)\n",
    "\n",
    "with open(train_path, \"w\") as f_train, open(test_path, \"w\") as f_test:\n",
    "    kept = 0\n",
    "    for ticker in tickers:\n",
    "        close = get_close_series(data, ticker)\n",
    "\n",
    "        # 序列过短或异常，跳过\n",
    "        if len(close) < MIN_LEN:\n",
    "            continue\n",
    "\n",
    "        n = len(close)\n",
    "        # k 既要保证训练段 >= CONTEXT，也要保证测试段 >= PRED\n",
    "        k = int(n * SPLIT)\n",
    "        k = max(CONTEXT, min(k, n - PRED))\n",
    "        if n - k < PRED:   # 仍不够预测窗口就跳过\n",
    "            continue\n",
    "\n",
    "        train_rec = {\n",
    "            \"start\": str(close.index[0]),\n",
    "            \"target\": close.iloc[:k].tolist(),\n",
    "            \"item_id\": ticker,\n",
    "        }\n",
    "        test_rec = {\n",
    "            \"start\": str(close.index[k]),\n",
    "            \"target\": close.iloc[k:].tolist(),\n",
    "            \"item_id\": ticker,\n",
    "        }\n",
    "        f_train.write(json.dumps(train_rec) + \"\\n\")\n",
    "        f_test.write(json.dumps(test_rec) + \"\\n\")\n",
    "        kept += 1\n",
    "\n",
    "print(f\"数据已保存到: {root}  | 写入条数: {kept}  (train: {train_path}, test: {test_path})\")"
   ]
  },
  {
   "cell_type": "code",
   "execution_count": 62,
   "id": "7308b6b0",
   "metadata": {},
   "outputs": [],
   "source": [
    "# 写入 metadata.json\n",
    "metadata = {\"freq\": \"B\",\"prediction_length\": 24,\"feat_static_cat\": [],\"feat_static_real\": [],\"feat_dynamic_real\": [],\"target_name\": \"Close\"}\n",
    "\n",
    "with (root / \"metadata.json\").open(\"w\") as f:\n",
    "    json.dump(metadata, f)"
   ]
  },
  {
   "cell_type": "code",
   "execution_count": 63,
   "id": "781f924c",
   "metadata": {},
   "outputs": [
    {
     "data": {
      "text/plain": [
       "PosixPath('/home/shihongyue/.gluonts/datasets/nasdaq100_prices')"
      ]
     },
     "execution_count": 63,
     "metadata": {},
     "output_type": "execute_result"
    }
   ],
   "source": [
    "root"
   ]
  }
 ],
 "metadata": {
  "kernelspec": {
   "display_name": "base",
   "language": "python",
   "name": "python3"
  },
  "language_info": {
   "codemirror_mode": {
    "name": "ipython",
    "version": 3
   },
   "file_extension": ".py",
   "mimetype": "text/x-python",
   "name": "python",
   "nbconvert_exporter": "python",
   "pygments_lexer": "ipython3",
   "version": "3.13.2"
  }
 },
 "nbformat": 4,
 "nbformat_minor": 5
}
