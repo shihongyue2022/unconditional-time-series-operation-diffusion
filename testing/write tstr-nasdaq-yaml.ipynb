{
 "cells": [
  {
   "cell_type": "code",
   "execution_count": 1,
   "id": "0eaa463b",
   "metadata": {},
   "outputs": [
    {
     "name": "stdout",
     "output_type": "stream",
     "text": [
      "Writing /home/shihongyue/unconditional-time-series-diffusion/configs/tstr/nasdaq100.yaml\n"
     ]
    }
   ],
   "source": [
    "%%writefile /home/shihongyue/unconditional-time-series-diffusion/configs/tstr/nasdaq100.yaml\n",
    "ckpt: dummy/nasdaq100.ckpt\n",
    "context_length: 96\n",
    "dataset: custom(/home/shihongyue/.gluonts/datasets/nasdaq100_prices)\n",
    "device: cuda:0\n",
    "diffusion_config: diffusion_small_config\n",
    "init_skip: true\n",
    "prediction_length: 24\n",
    "scaling_type: mean\n",
    "use_features: false\n",
    "use_lags: true"
   ]
  }
 ],
 "metadata": {
  "kernelspec": {
   "display_name": "base",
   "language": "python",
   "name": "python3"
  },
  "language_info": {
   "codemirror_mode": {
    "name": "ipython",
    "version": 3
   },
   "file_extension": ".py",
   "mimetype": "text/x-python",
   "name": "python",
   "nbconvert_exporter": "python",
   "pygments_lexer": "ipython3",
   "version": "3.13.2"
  }
 },
 "nbformat": 4,
 "nbformat_minor": 5
}
